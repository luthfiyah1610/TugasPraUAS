{
  "nbformat": 4,
  "nbformat_minor": 0,
  "metadata": {
    "colab": {
      "name": "Tugas Pra UAS.ipynb",
      "provenance": [],
      "collapsed_sections": []
    },
    "kernelspec": {
      "name": "python3",
      "display_name": "Python 3"
    },
    "language_info": {
      "name": "python"
    }
  },
  "cells": [
    {
      "cell_type": "code",
      "metadata": {
        "id": "7IqNQdZe2BfX"
      },
      "source": [
        "import math\n",
        "import random as rd\n",
        "import numpy as np "
      ],
      "execution_count": null,
      "outputs": []
    },
    {
      "cell_type": "code",
      "metadata": {
        "id": "WA_ivtNM2Pgf"
      },
      "source": [
        "def nilaiFitness(kombinasi):\n",
        "    fitness = 0\n",
        "    for i in range(1,len(kombinasi)):\n",
        "        fitness = fitness + math.sqrt((math.pow((node[kombinasi[i]][0] - node[kombinasi[i-1]][0]),2))+math.pow((node[kombinasi[i-1]][1] - node[kombinasi[i]][1]),2))\n",
        "    return -fitness"
      ],
      "execution_count": null,
      "outputs": []
    },
    {
      "cell_type": "code",
      "metadata": {
        "id": "g33iiFfr3Cjx"
      },
      "source": [
        "def tournamentParent(populasi, panjangTournament):\n",
        "    idxSample = np.arange(len(populasi))\n",
        "    np.random.shuffle(idxSample)\n",
        "    idxSample = idxSample[0:panjangTournament]\n",
        "    fitnesses = [(nilaiFitness(pop[idxSample[i]])) for i in range(panjangTournament)]\n",
        "    mergedArray = [(idxSample[i], fitnesses[i]) for i in range(panjangTournament)]\n",
        "    mergedArray = sorted(mergedArray,key = lambda a : a[1], reverse = True)\n",
        "    return mergedArray[0][0], mergedArray[1][0]"
      ],
      "execution_count": null,
      "outputs": []
    },
    {
      "cell_type": "code",
      "metadata": {
        "id": "LMNsDXM94RXF"
      },
      "source": [
        "def generateKromosom(jumlahPopulasi, panjangKromosom):\n",
        "    populasi = []\n",
        "    tmpStartEndNode = np.array([0])\n",
        "    for i in range(jumlahPopulasi):\n",
        "        kromosom = []\n",
        "        kromosom = np.arange(1,panjangKromosom)\n",
        "        np.random.shuffle(kromosom)\n",
        "        kromosom = np.concatenate((tmpStartEndNode,kromosom), axis = 0)\n",
        "        kromosom = np.concatenate((kromosom,tmpStartEndNode), axis = 0)\n",
        "        populasi.append(list(kromosom))\n",
        "    return populasi"
      ],
      "execution_count": null,
      "outputs": []
    },
    {
      "cell_type": "code",
      "metadata": {
        "id": "QVhqvehS5RdX"
      },
      "source": [
        "def crossover(kromosom1, kromosom2, pC):\n",
        "    prob = np.random.random()\n",
        "    point = np.random.randint(1,len(kromosom1)-1)\n",
        "    tmpKromosom1 = []\n",
        "    tmpKromosom2 = []\n",
        "    cekKromosom1 = []\n",
        "    cekKromosom2 = []\n",
        "    if(prob <= pC):\n",
        "        tmpKromosom1 = kromosom1[:point]\n",
        "        tmpKromosom2 = kromosom2[:point]\n",
        "        cekKromosom1 = kromosom1[point:]\n",
        "        cekKromosom2 = kromosom2[point:]\n",
        "        for i in range(point, len(kromosom2)):\n",
        "            if(kromosom2[i] in tmpKromosom1):\n",
        "                for j in range(len(kromosom1)):\n",
        "                    if((kromosom1[j] not in tmpKromosom1) and (kromosom1[j] not in cekKromosom2)):\n",
        "                        tmpKromosom1 = tmpKromosom1 + [kromosom1[j]]\n",
        "                        break\n",
        "                        \n",
        "            else:\n",
        "                tmpKromosom1 = tmpKromosom1 + [kromosom2[i]]\n",
        "        for i in range(point, len(kromosom1)):\n",
        "            if(kromosom1[i] in tmpKromosom2):\n",
        "                for j in range(len(kromosom2)):\n",
        "                    if((kromosom2[j] not in tmpKromosom2) and (kromosom2[j] not in cekKromosom1)):\n",
        "                        tmpKromosom2 = tmpKromosom2 + [kromosom2[j]]\n",
        "                        break\n",
        "            else:\n",
        "                tmpKromosom2 = tmpKromosom2 + [kromosom1[i]]\n",
        "        \n",
        "        tmpKromosom1 = tmpKromosom1 + kromosom1[len(kromosom1)-1:len(kromosom1)]\n",
        "        tmpKromosom2 = tmpKromosom2 + kromosom2[len(kromosom2)-1:len(kromosom2)]\n",
        "    else:\n",
        "        tmpKromosom1 = kromosom1\n",
        "        tmpKromosom2 = kromosom2\n",
        "    return tmpKromosom1, tmpKromosom2"
      ],
      "execution_count": null,
      "outputs": []
    },
    {
      "cell_type": "code",
      "metadata": {
        "id": "7k8YnJmE9QNv"
      },
      "source": [
        "def mutasi(kromosom, pM):\n",
        "    for i in range(1,len(kromosom)-1):\n",
        "        tmp = 0\n",
        "        prob = np.random.random()\n",
        "        if(prob <= pM):\n",
        "            while(tmp == 0):\n",
        "                tmp = np.random.randint(1,len(kromosom)-2)\n",
        "            for j in range(1, len(kromosom)-1):\n",
        "                if(tmp == kromosom[j]):\n",
        "                    kromosom[j] = kromosom[i]\n",
        "                    kromosom[i] = tmp\n",
        "                    break\n",
        "    return kromosom"
      ],
      "execution_count": null,
      "outputs": []
    },
    {
      "cell_type": "code",
      "metadata": {
        "id": "AnJcAIa19_FA"
      },
      "source": [
        "def steadyState(jumlahGeneration ,populasi, jumlahPopulasi, panjangTournament):\n",
        "    for j in range(jumlahGeneration):\n",
        "        gabungan = []\n",
        "        child = []\n",
        "        fitnesses = []\n",
        "#         print(populasi)\n",
        "        for i in range(round(len(populasi)/2)):\n",
        "            idxParent1, idxParent2 = tournamentParent(populasi, panjangTournament)\n",
        "            anak1 = populasi[idxParent1][:]\n",
        "            anak2 = populasi[idxParent2][:]\n",
        "            \n",
        "            #Crossover\n",
        "            anak1,anak2 = crossover(anak1,anak2,pC)\n",
        "            \n",
        "            #Mutasi\n",
        "            anak1 = mutasi(anak1,pM)\n",
        "            anak2 = mutasi(anak2,pM)\n",
        "            \n",
        "            child.append(anak1)\n",
        "            child.append(anak2)\n",
        "            \n",
        "        gabungan = populasi + child\n",
        "        for i in range(len(gabungan)):\n",
        "            fitnesses.append(nilaiFitness(gabungan[i]))\n",
        "        mergedArray = [(gabungan[i], fitnesses[i]) for i in range(len(gabungan))]\n",
        "        mergedArray = sorted(mergedArray, key = lambda a : a[1], reverse = True)\n",
        "        pop = []\n",
        "        tmp = []\n",
        "        t = 0\n",
        "        jumlah = 0\n",
        "        \n",
        "#         print(mergedArray)\n",
        "        for i in range(len(gabungan)):\n",
        "            if(i >= 1):\n",
        "                nilai = nilaiFitness(gabungan[i])\n",
        "                if(nilai == mergedArray[jumlah-1][1]):\n",
        "                    tmp.append(mergedArray[i][0])\n",
        "                    t += 1\n",
        "                else:\n",
        "                    pop.append(mergedArray[i][0])\n",
        "                    jumlah+=1\n",
        "            else:\n",
        "                pop.append(mergedArray[i][0])\n",
        "                jumlah+=1\n",
        "            if(jumlah == jumlahPopulasi):\n",
        "                break\n",
        "        \n",
        "        z = 0\n",
        "#         print(len(populasi))\n",
        "        while(jumlah < jumlahPopulasi):\n",
        "            pop.append(tmp[z])\n",
        "            z+=1\n",
        "            jumlah+=1\n",
        "        populasi = []\n",
        "        populasi = pop\n",
        "#         print(pop)\n",
        "#         print(len(pop))\n",
        "        \n",
        "#         nilai = -nilaiFitness(populasi[0])\n",
        "#         print()\n",
        "#         print(nilai)\n",
        "        \n",
        "    return populasi"
      ],
      "execution_count": null,
      "outputs": []
    },
    {
      "cell_type": "code",
      "metadata": {
        "id": "1hjLoc4wBap8"
      },
      "source": [
        "node = [[82,76],\n",
        "        [96,44],\n",
        "        [50,5],\n",
        "        [49,8],\n",
        "        [13,7],\n",
        "        [29,89],\n",
        "        [58,30],\n",
        "        [84,39],\n",
        "        [14,24],\n",
        "        [2,39],\n",
        "        [3,82],\n",
        "        [5,10],\n",
        "        [98,52],\n",
        "        [84,25],\n",
        "        [61,59],\n",
        "        [1,65]]\n",
        "\n",
        "jumlahGenerasi = 500\n",
        "jumlahIndividu = 50\n",
        "panjangTournament = round(jumlahIndividu/2)\n",
        "pC = 0.7\n",
        "pM = 0.1"
      ],
      "execution_count": null,
      "outputs": []
    },
    {
      "cell_type": "code",
      "metadata": {
        "colab": {
          "base_uri": "https://localhost:8080/"
        },
        "id": "Xwn2sxZyCu4n",
        "outputId": "fa8de7da-f3b7-4a63-91fd-80be3398aa2a"
      },
      "source": [
        "pop = generateKromosom(jumlahIndividu,16)\n",
        "pop = list(pop)\n",
        "pop = steadyState(jumlahGenerasi, pop, jumlahIndividu, panjangTournament)\n",
        "print(\"Generasi ke- \"+str(jumlahGenerasi))\n",
        "print(\"Rute terbaik : \"+str(pop[0]))\n",
        "print(\"Cost (jarak) : \"+str(-nilaiFitness(pop[0])))"
      ],
      "execution_count": null,
      "outputs": [
        {
          "output_type": "stream",
          "text": [
            "Generasi ke- 500\n",
            "Rute terbaik : [0, 12, 1, 7, 13, 6, 3, 2, 4, 11, 8, 9, 15, 10, 5, 14, 0]\n",
            "Cost (jarak) : 339.8939674528264\n"
          ],
          "name": "stdout"
        }
      ]
    }
  ]
}